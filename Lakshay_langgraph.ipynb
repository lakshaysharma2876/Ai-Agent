{
  "nbformat": 4,
  "nbformat_minor": 0,
  "metadata": {
    "colab": {
      "provenance": [],
      "include_colab_link": true
    },
    "kernelspec": {
      "name": "python3",
      "display_name": "Python 3"
    },
    "language_info": {
      "name": "python"
    }
  },
  "cells": [
    {
      "cell_type": "markdown",
      "metadata": {
        "id": "view-in-github",
        "colab_type": "text"
      },
      "source": [
        "<a href=\"https://colab.research.google.com/github/lakshaysharma2876/Ai-Agent/blob/main/Lakshay_langgraph.ipynb\" target=\"_parent\"><img src=\"https://colab.research.google.com/assets/colab-badge.svg\" alt=\"Open In Colab\"/></a>"
      ]
    },
    {
      "cell_type": "markdown",
      "source": [
        "# STEP 0: Install dependencies"
      ],
      "metadata": {
        "id": "K3yWWtQ8cC4i"
      }
    },
    {
      "cell_type": "code",
      "source": [
        "!pip install -qU google-generativeai==0.8.5 google-ai-generativelanguage==0.6.15 \\\n",
        "langgraph langchain langchain-google-genai openai"
      ],
      "metadata": {
        "collapsed": true,
        "id": "8sXMx3s3a8YO"
      },
      "execution_count": null,
      "outputs": []
    },
    {
      "cell_type": "markdown",
      "source": [
        "# STEP 1: Imports and secure API key input"
      ],
      "metadata": {
        "id": "XvoFPl11cFhj"
      }
    },
    {
      "cell_type": "code",
      "source": [
        "import os\n",
        "import getpass\n",
        "from langgraph.graph import StateGraph, END\n",
        "from langchain_google_genai import ChatGoogleGenerativeAI\n",
        "from langchain_core.messages import HumanMessage"
      ],
      "metadata": {
        "id": "a6A5AV-nbq0y"
      },
      "execution_count": null,
      "outputs": []
    },
    {
      "cell_type": "markdown",
      "source": [
        "\n",
        "# Secure Gemini API Key input"
      ],
      "metadata": {
        "id": "W28u20SxcIiH"
      }
    },
    {
      "cell_type": "code",
      "source": [
        "os.environ['GOOGLE_API_KEY'] = getpass.getpass('Enter the Gemini API Key')\n"
      ],
      "metadata": {
        "colab": {
          "base_uri": "https://localhost:8080/"
        },
        "id": "VA6YJwhsdl65",
        "outputId": "4865e329-7ffa-469d-d255-8bd0e052e9de"
      },
      "execution_count": null,
      "outputs": [
        {
          "name": "stdout",
          "output_type": "stream",
          "text": [
            "Enter the Gemini API Key··········\n"
          ]
        }
      ]
    },
    {
      "cell_type": "markdown",
      "source": [
        "# STEP 2: Initialize Gemini 1.5 Flash"
      ],
      "metadata": {
        "id": "eusINPuVcLXp"
      }
    },
    {
      "cell_type": "code",
      "source": [
        "llm = ChatGoogleGenerativeAI(model = \"models/gemini-1.5-flash-latest\", temperature=0.2)\n"
      ],
      "metadata": {
        "id": "Tahx6680e3vS"
      },
      "execution_count": null,
      "outputs": []
    },
    {
      "cell_type": "markdown",
      "source": [
        "# STEP 3: Node to ask user for symptom"
      ],
      "metadata": {
        "id": "o07zbkLWcOVW"
      }
    },
    {
      "cell_type": "code",
      "source": [
        "def get_symptom(state: dict) ->dict :\n",
        "  symptom = input(\"Welcome to Sharma Hospital, please enter your symptom: \")\n",
        "  state[\"symptom\"] = symptom\n",
        "  return state"
      ],
      "metadata": {
        "id": "OMqP6Pf_fT6j"
      },
      "execution_count": null,
      "outputs": []
    },
    {
      "cell_type": "markdown",
      "source": [
        "# STEP 4: Node to classify the symptom"
      ],
      "metadata": {
        "id": "0KIzyYPVcRVm"
      }
    },
    {
      "cell_type": "code",
      "source": [
        "def classify_symptom(state : dict) -> dict :\n",
        "  prompt = (\n",
        "      \"You are a helpful Medical Assistant, Classify the symptoms below into one of the categories \\n\"\n",
        "      \"-General\\n -Emergency\\n -Mental Health \\n\"\n",
        "      f\"symptom: {state['symptom']}\\n\"\n",
        "      \"Respond only with one word : General, Emergency or Mental Health\"\n",
        "      \"#Example  : input : I have fever, Output : General\"\n",
        "  )\n",
        "  response = llm.invoke([HumanMessage(content=prompt)])\n",
        "  category = response.content.strip()\n",
        "  print(f\"LLM classifies the symptom as : {category}\") #debug\n",
        "  state[\"category\"] = category\n",
        "  return state"
      ],
      "metadata": {
        "id": "iC03XpAAgVWb"
      },
      "execution_count": null,
      "outputs": []
    },
    {
      "cell_type": "markdown",
      "source": [
        "# STEP 5: Router logic to route to the correct node\n"
      ],
      "metadata": {
        "id": "kESmxbnicWpS"
      }
    },
    {
      "cell_type": "code",
      "source": [
        "def symptom_router(state:dict) -> dict:\n",
        "  cat = state[\"category\"].lower()\n",
        "  if \"general\" in cat:\n",
        "    return \"general\"\n",
        "  elif \"emergency\" in cat:\n",
        "    return \"emergency\"\n",
        "  elif \"mental health\" in cat:\n",
        "    return \"mental_health\"\n",
        "  else:\n",
        "    return \"general\""
      ],
      "metadata": {
        "id": "YxV7iUnyiJer"
      },
      "execution_count": null,
      "outputs": []
    },
    {
      "cell_type": "markdown",
      "source": [
        "# STEP 6: Category-specific response nodes\n"
      ],
      "metadata": {
        "id": "cZuR4VGscake"
      }
    },
    {
      "cell_type": "code",
      "source": [
        "def general_node(state :dict) -> dict :\n",
        "  state[\"answer\"] = f\" '{state['symptom']}' : seems general : directing you to general ward for consulting a doctor\"\n",
        "  return state\n",
        "\n",
        "def emergency_node(state :dict) -> dict :\n",
        "  state[\"answer\"] = f\" '{state['symptom']}' : It is a medical emergency : seeking immediate help\"\n",
        "  return state\n",
        "\n",
        "def mental_health_node(state :dict) -> dict :\n",
        "  state[\"answer\"] = f\" '{state['symptom']}' : seems like a medical health issue : talk to our counsellor\"\n",
        "  return state\n"
      ],
      "metadata": {
        "id": "nbiCZFcXjeLD"
      },
      "execution_count": null,
      "outputs": []
    },
    {
      "cell_type": "markdown",
      "source": [
        "# STEP 7: Build LangGraph\n"
      ],
      "metadata": {
        "id": "I1ek0SwzcehS"
      }
    },
    {
      "cell_type": "code",
      "source": [
        "builder = StateGraph(dict)\n",
        "\n",
        "#defining the nodes\n",
        "builder.set_entry_point(\"get_symptom\")\n",
        "builder.add_node(\"get_symptom\", get_symptom)\n",
        "builder.add_node(\"classify_symptom\", classify_symptom)\n",
        "builder.add_node(\"general\", general_node)\n",
        "builder.add_node(\"emergency\", emergency_node)\n",
        "builder.add_node(\"mental_health\", mental_health_node)\n",
        "\n",
        "\n",
        "#defining the edges\n",
        "builder.add_edge(\"get_symptom\", \"classify_symptom\")\n",
        "builder.add_conditional_edges(\"classify_symptom\", symptom_router, {\n",
        "    \"general\" : \"general\",\n",
        "    \"emergency\"  : \"emergency\",\n",
        "    \"mental_health\" : \"mental_health\",\n",
        "})\n",
        "\n",
        "#Ending the nodes\n",
        "builder.add_edge(\"general\", END)\n",
        "builder.add_edge(\"emergency\", END)\n",
        "builder.add_edge(\"mental_health\", END)"
      ],
      "metadata": {
        "colab": {
          "base_uri": "https://localhost:8080/"
        },
        "id": "1mEhJJpNkXmy",
        "outputId": "0f2cac02-7963-4f2f-a62a-691ea69c811c"
      },
      "execution_count": null,
      "outputs": [
        {
          "output_type": "execute_result",
          "data": {
            "text/plain": [
              "<langgraph.graph.state.StateGraph at 0x7f4d45c17310>"
            ]
          },
          "metadata": {},
          "execution_count": 54
        }
      ]
    },
    {
      "cell_type": "markdown",
      "source": [
        "# STEP 8: Compile and invoke the graph\n"
      ],
      "metadata": {
        "id": "GbAgCeZYci5k"
      }
    },
    {
      "cell_type": "code",
      "source": [
        "graph = builder.compile()\n",
        "final_state = graph.invoke({})\n",
        "print(\"final output \\n\")\n",
        "print(final_state[\"answer\"])\n"
      ],
      "metadata": {
        "colab": {
          "base_uri": "https://localhost:8080/"
        },
        "id": "vNSYxP4TmNiF",
        "outputId": "ce4ad4e3-5d92-411e-db0b-f246b2e736ea"
      },
      "execution_count": null,
      "outputs": [
        {
          "output_type": "stream",
          "name": "stdout",
          "text": [
            "Welcome to Sharma Hospital, please enter your symptom: I have sharp pain in my heart\n",
            "LLM classifies the symptom as : Emergency\n",
            "final output \n",
            "\n",
            " 'I have sharp pain in my heart' : It is a medical emergency : seeking immediate help\n"
          ]
        }
      ]
    }
  ]
}