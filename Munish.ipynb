!pip install google-generativeai
lAkshay weds ella d verma